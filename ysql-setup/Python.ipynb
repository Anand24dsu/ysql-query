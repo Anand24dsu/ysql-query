{
 "cells": [
  {
   "cell_type": "code",
   "execution_count": 1,
   "id": "fd46dcc3",
   "metadata": {},
   "outputs": [
    {
     "name": "stdout",
     "output_type": "stream",
     "text": [
      "('PostgreSQL 11.2-YB-2024.2.3.0-b0 on x86_64-pc-linux-gnu, compiled by clang version 17.0.6 (https://github.com/yugabyte/llvm-project.git 9b881774e40024e901fc6f3d313607b071c08631), 64-bit',)\n"
     ]
    }
   ],
   "source": [
    "import psycopg2\n",
    "\n",
    "conn = psycopg2.connect(\n",
    "    host=\"127.0.1.1\",\n",
    "    port=\"5433\",\n",
    "    dbname=\"yugabyte\",\n",
    "    user=\"yugabyte\",\n",
    "    password=\"yugabyte\"\n",
    ")\n",
    "\n",
    "cursor = conn.cursor()\n",
    "cursor.execute(\"SELECT version();\")\n",
    "print(cursor.fetchone())\n",
    "\n",
    "conn.close()"
   ]
  },
  {
   "cell_type": "code",
   "execution_count": 34,
   "id": "b90c890a",
   "metadata": {},
   "outputs": [
    {
     "name": "stdout",
     "output_type": "stream",
     "text": [
      "<built-in method scroll of psycopg2.extensions.cursor object at 0x7f34d440dd50>\n"
     ]
    }
   ],
   "source": [
    "conn = psycopg2.connect(\n",
    "    host=\"127.0.1.1\",\n",
    "    port=\"5433\",\n",
    "    dbname=\"yugabyte\",\n",
    "    user=\"yugabyte\",\n",
    "    password=\"yugabyte\"\n",
    ")\n",
    "cursor = conn.cursor()\n",
    "cursor.execute(\"select * from cd.bookings\")\n",
    "print(cursor.scroll)"
   ]
  },
  {
   "cell_type": "code",
   "execution_count": 35,
   "id": "aafadf5e",
   "metadata": {},
   "outputs": [
    {
     "name": "stdout",
     "output_type": "stream",
     "text": [
      "('template1', 10, 6, 'C', 'en_US.UTF-8', True, True, -1, 0, '0', '1', 1663, '{=c/postgres,postgres=CTc/postgres}')\n",
      "('template0', 10, 6, 'C', 'en_US.UTF-8', True, False, -1, 0, '0', '1', 1663, '{=c/postgres,postgres=CTc/postgres}')\n",
      "('postgres', 10, 6, 'C', 'en_US.UTF-8', False, True, -1, 0, '0', '1', 1663, None)\n",
      "('yugabyte', 10, 6, 'C', 'en_US.UTF-8', False, True, -1, 0, '0', '1', 1663, None)\n",
      "('system_platform', 10, 6, 'C', 'en_US.UTF-8', False, True, -1, 0, '0', '1', 1663, None)\n"
     ]
    }
   ],
   "source": [
    "c=conn.cursor()\n",
    "c.execute(\"SELECT * FROM pg_database;\")\n",
    "for i in c:\n",
    "    print(i)\n",
    "c=conn.cursor()\n",
    "conn.close()"
   ]
  },
  {
   "cell_type": "code",
   "execution_count": 45,
   "id": "7b9fee54",
   "metadata": {},
   "outputs": [
    {
     "name": "stdout",
     "output_type": "stream",
     "text": [
      "('empid', 'integer')\n",
      "('salary', 'integer')\n",
      "('empname', 'character varying')\n",
      "('department', 'character varying')\n",
      "[]\n"
     ]
    }
   ],
   "source": [
    "import psycopg2\n",
    "\n",
    "conn = psycopg2.connect(\n",
    "    host=\"127.0.1.1\",\n",
    "    port=\"5433\",\n",
    "    dbname=\"yugabyte\",\n",
    "    user=\"yugabyte\",\n",
    "    password=\"yugabyte\"\n",
    ")\n",
    "c = conn.cursor()\n",
    "\n",
    "# Drop table safely\n",
    "drop = \"\"\"DROP TABLE IF EXISTS employee;\"\"\"\n",
    "c.execute(drop)\n",
    "\n",
    "# Create table with sharding\n",
    "employee_table = \"\"\"CREATE TABLE employee (\n",
    "  empid SERIAL PRIMARY KEY,\n",
    "  empname VARCHAR(45),\n",
    "  department VARCHAR(45),\n",
    "  salary INT\n",
    ") SPLIT INTO 8 TABLETS;\"\"\"\n",
    "c.execute(employee_table)\n",
    "\n",
    "# Describe table structure\n",
    "describe_query = \"\"\"SELECT column_name, data_type \n",
    "FROM information_schema.columns \n",
    "WHERE table_name = 'employee';\"\"\"\n",
    "c.execute(describe_query)\n",
    "for i in c:\n",
    "  print(i)\n",
    "# Fetch & print table structure\n",
    "print(c.fetchall())\n",
    "\n",
    "conn.commit()\n",
    "conn.close()"
   ]
  },
  {
   "cell_type": "code",
   "execution_count": 54,
   "id": "f4778b7f",
   "metadata": {},
   "outputs": [],
   "source": [
    "import psycopg2\n",
    "\n",
    "# Establish the connection\n",
    "conn = psycopg2.connect(\n",
    "    host=\"127.0.1.1\",\n",
    "    port=\"5433\",\n",
    "    dbname=\"yugabyte\",\n",
    "    user=\"yugabyte\",\n",
    "    password=\"yugabyte\"\n",
    ")\n",
    "\n",
    "# Create a cursor object\n",
    "c = conn.cursor()\n",
    "\n",
    "# SQL insert with conflict handling: update if empid already exists\n",
    "insert_data = \"\"\"\n",
    "INSERT INTO EMPLOYEE (empid, empname, department, salary)\n",
    "VALUES (%s, %s, %s, %s)\n",
    "ON CONFLICT (empid)\n",
    "DO UPDATE SET\n",
    "    empname = EXCLUDED.empname,\n",
    "    department = EXCLUDED.department,\n",
    "    salary = EXCLUDED.salary\n",
    "\"\"\"\n",
    "\n",
    "# List of employee data\n",
    "data = [\n",
    "    (1, 'John Doe', 'HR', 50000),\n",
    "    (2, 'Jane Smith', 'Finance', 60000),\n",
    "    (3, 'Robert Brown', 'Engineering', 75000),\n",
    "    (4, 'Emily Davis', 'Marketing', 55000),\n",
    "    (5, 'Michael Johnson', 'Sales', 58000),\n",
    "    (6, 'Sarah Wilson', 'Customer Support', 45000),\n",
    "    (7, 'Daniel Martinez', 'IT', 72000),\n",
    "    (8, 'Sophia Lopez', 'Operations', 53000),\n",
    "    (9, 'David Clark', 'Legal', 69000),\n",
    "    (10, 'Linda Garcia', 'Admin', 48000)\n",
    "]\n",
    "\n",
    "# Insert or update all rows\n",
    "c.executemany(insert_data, data)\n",
    "\n",
    "# Commit the transaction\n",
    "conn.commit()\n",
    "\n",
    "# Close the cursor and connection\n",
    "c.close()\n",
    "conn.close()\n"
   ]
  },
  {
   "cell_type": "code",
   "execution_count": 56,
   "id": "077b6082",
   "metadata": {},
   "outputs": [
    {
     "name": "stdout",
     "output_type": "stream",
     "text": [
      "(1, 'John Doe', 'HR', 50000)\n",
      "(2, 'Jane Smith', 'Finance', 60000)\n",
      "(3, 'Robert Brown', 'Engineering', 75000)\n",
      "(4, 'Emily Davis', 'Marketing', 55000)\n",
      "(5, 'Michael Johnson', 'Sales', 58000)\n",
      "(6, 'Sarah Wilson', 'Customer Support', 45000)\n",
      "(7, 'Daniel Martinez', 'IT', 72000)\n",
      "(8, 'Sophia Lopez', 'Operations', 53000)\n",
      "(9, 'David Clark', 'Legal', 69000)\n",
      "(10, 'Linda Garcia', 'Admin', 48000)\n"
     ]
    }
   ],
   "source": [
    "import psycopg2\n",
    "\n",
    "# Establish the connection\n",
    "conn = psycopg2.connect(\n",
    "    host=\"127.0.1.1\",\n",
    "    port=\"5433\",\n",
    "    dbname=\"yugabyte\",\n",
    "    user=\"yugabyte\",\n",
    "    password=\"yugabyte\"\n",
    ")\n",
    "\n",
    "# Create a cursor object\n",
    "c = conn.cursor()\n",
    "employee_table_details=\"\"\"select * from employee order by empid asc\"\"\"\n",
    "c.execute(employee_table_details)\n",
    "employee_table=c.fetchall()\n",
    "for e in employee_table:\n",
    "    print(e)\n",
    "conn.close()"
   ]
  },
  {
   "cell_type": "code",
   "execution_count": null,
   "id": "d40df1aa",
   "metadata": {},
   "outputs": [],
   "source": []
  }
 ],
 "metadata": {
  "kernelspec": {
   "display_name": "ysql",
   "language": "python",
   "name": "python3"
  },
  "language_info": {
   "codemirror_mode": {
    "name": "ipython",
    "version": 3
   },
   "file_extension": ".py",
   "mimetype": "text/x-python",
   "name": "python",
   "nbconvert_exporter": "python",
   "pygments_lexer": "ipython3",
   "version": "3.12.3"
  }
 },
 "nbformat": 4,
 "nbformat_minor": 5
}
